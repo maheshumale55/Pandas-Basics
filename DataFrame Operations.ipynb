{
 "cells": [
  {
   "cell_type": "code",
   "execution_count": 1,
   "id": "dbc087ea-db31-4a37-835d-e8e8503457b9",
   "metadata": {},
   "outputs": [],
   "source": [
    "import pandas as pd"
   ]
  },
  {
   "cell_type": "code",
   "execution_count": 3,
   "id": "6fa8f7ba-7e2f-4fda-ae76-0107c320c0ac",
   "metadata": {},
   "outputs": [],
   "source": [
    "df = pd.read_excel('D:/01 Mahesh Data/Data/Pandas/data1.xlsx')"
   ]
  },
  {
   "cell_type": "code",
   "execution_count": null,
   "id": "a1af711c-f945-430f-8ad5-4beea204b67b",
   "metadata": {},
   "outputs": [],
   "source": [
    "df\n",
    "\n",
    "df.info()\n",
    "\n",
    "df.detypes\n",
    "df['Date'].dtypes\n",
    "\n",
    "df.describe()\n",
    "df['Id'].describe()\n",
    "df['Id'].std()\n",
    "df[['Id', 'Age']].mean()\n",
    "\n",
    "df.head()\n",
    "df.head(10)\n",
    "df.head(-1)\n",
    "df.head(3)"
   ]
  },
  {
   "cell_type": "code",
   "execution_count": null,
   "id": "ea125148-453f-4b7c-bf41-02dcdd9bd5ec",
   "metadata": {},
   "outputs": [],
   "source": [
    "df.shape\n",
    "df.shape([0])\n",
    "df.shape([1])"
   ]
  },
  {
   "cell_type": "code",
   "execution_count": null,
   "id": "1910734c-d691-49dd-97e1-e663ba8f7209",
   "metadata": {},
   "outputs": [],
   "source": [
    "df.columns\n",
    "df.columns.values\n",
    "df.columns.values[0:3]\n",
    "df.columns.values[::-1]\n",
    "print(df.columns.values.tolist())\n",
    "df.keys\n",
    "df.index.values\n"
   ]
  },
  {
   "cell_type": "code",
   "execution_count": null,
   "id": "2a3b2d5c-60b2-499a-94f8-b14806966332",
   "metadata": {},
   "outputs": [],
   "source": [
    "df[0:30]\n",
    "df[10:20:5]\n",
    "df[-5:-1]"
   ]
  },
  {
   "cell_type": "code",
   "execution_count": 52,
   "id": "d20c3367-152d-4e7d-a959-20fdf40ad8f7",
   "metadata": {},
   "outputs": [],
   "source": [
    "pd.get_option('display.max_rows')\n",
    "pd.get_option('display.max_columns')\n",
    "pd.get_option('display.max_colwidth')\n",
    "\n",
    "pd.set_option('display.max_rows', None) # displays entire rows in dataframe, no hidden rows while displaying\n",
    "pd.set_option('display.max_columns', None) # displays entire column in dataframe, no hidden columns while displaying\n",
    "pd.set_option('display.max_colwidth', 100) # all the content from the column will be displayed\n",
    "\n",
    "pd.reset_option('^display') # Reset settings above"
   ]
  },
  {
   "cell_type": "code",
   "execution_count": 55,
   "id": "88c9945f-edda-48e5-bb91-8a73b8f2e445",
   "metadata": {},
   "outputs": [],
   "source": [
    "df2 = pd.read_csv('D:/01 Mahesh Data/Data/Pandas/NYC_Jobs.csv')"
   ]
  },
  {
   "cell_type": "code",
   "execution_count": null,
   "id": "be783cb4-e882-4a17-9d1b-fd5d5e59c762",
   "metadata": {},
   "outputs": [],
   "source": [
    "df2.apply"
   ]
  },
  {
   "cell_type": "code",
   "execution_count": null,
   "id": "420d600a-bca0-4e0a-a3cc-ed2acb39b4ed",
   "metadata": {},
   "outputs": [],
   "source": [
    "df2['Civil Service Title'].apply"
   ]
  },
  {
   "cell_type": "code",
   "execution_count": null,
   "id": "1231ef13-d4ac-487e-be96-fcf76f8b2838",
   "metadata": {},
   "outputs": [],
   "source": [
    "df2['Civil Service Title'].map"
   ]
  },
  {
   "cell_type": "code",
   "execution_count": null,
   "id": "1a1512dd-2465-490f-b2ff-17eccc04f3a5",
   "metadata": {},
   "outputs": [],
   "source": [
    "df2.applymap"
   ]
  },
  {
   "cell_type": "code",
   "execution_count": null,
   "id": "8e61278a-7bd9-40ef-b11d-68780a6f2345",
   "metadata": {},
   "outputs": [],
   "source": []
  }
 ],
 "metadata": {
  "kernelspec": {
   "display_name": "Python 3 (ipykernel)",
   "language": "python",
   "name": "python3"
  },
  "language_info": {
   "codemirror_mode": {
    "name": "ipython",
    "version": 3
   },
   "file_extension": ".py",
   "mimetype": "text/x-python",
   "name": "python",
   "nbconvert_exporter": "python",
   "pygments_lexer": "ipython3",
   "version": "3.12.4"
  }
 },
 "nbformat": 4,
 "nbformat_minor": 5
}
