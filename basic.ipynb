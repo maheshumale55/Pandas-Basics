{
 "cells": [
  {
   "cell_type": "markdown",
   "id": "62495a07-d566-4d72-beb1-ad8316badb95",
   "metadata": {},
   "source": [
    "# Pandas Basic Examples"
   ]
  },
  {
   "cell_type": "markdown",
   "id": "35fbb6cc-6ecb-4caa-beea-48e9e4b2eace",
   "metadata": {
    "jp-MarkdownHeadingCollapsed": true
   },
   "source": [
    "#### Import Libraries"
   ]
  },
  {
   "cell_type": "code",
   "execution_count": 78,
   "id": "813d3002-89c1-49e3-8d51-6630e2223988",
   "metadata": {},
   "outputs": [],
   "source": [
    "import pandas as pd"
   ]
  },
  {
   "cell_type": "markdown",
   "id": "2b7382fe-0e86-4f86-89f8-4b70101cf079",
   "metadata": {
    "jp-MarkdownHeadingCollapsed": true
   },
   "source": [
    "#### Data Retrieval: Read transaction data from an Excel file"
   ]
  },
  {
   "cell_type": "code",
   "execution_count": 90,
   "id": "d1c2ed18-d141-4f04-bd86-2b50f3d65f04",
   "metadata": {},
   "outputs": [
    {
     "name": "stdout",
     "output_type": "stream",
     "text": [
      "   First Name   Last Name  Gender        Country   Age        Date      Id\n",
      "0       Dulce       Abril  Female  United States  32.0  15/10/2017  1562.0\n",
      "1        Avon       Abril  Female          India  28.0  15/10/2017  1562.0\n",
      "2        Mara   Hashimoto  Female  Great Britain  25.0  16/08/2016  1582.0\n",
      "3      Philip        Gent    Male         France  36.0  21/05/2015  2587.0\n",
      "4    Kathleen      Hanner  Female  United States  25.0  15/10/2017  3549.0\n",
      "5     Nereida     Magwood  Female  United States  58.0  16/08/2016  2468.0\n",
      "6      Gaston       Brumm    Male  United States  24.0  21/05/2015  2554.0\n",
      "7        Etta        Hurn  Female  Great Britain  56.0  15/10/2017  3598.0\n",
      "8     Earlean      Melgar  Female  United States  27.0  16/08/2016  2456.0\n",
      "9    Vincenza     Weiland  Female  United States  40.0  21/05/2015  6548.0\n",
      "10     Fallon     Winward  Female  Great Britain  28.0  16/08/2016  5486.0\n",
      "11    Arcelia      Bouska  Female  Great Britain  39.0  21/05/2015  1258.0\n",
      "12        NaN         NaN     NaN            NaN   NaN         NaN     NaN\n",
      "13    Sherron    Ascencio  Female  Great Britain  32.0  16/08/2016  3256.0\n",
      "14     Marcel    Ascencio    Male  Great Britain  26.0  21/05/2015  2587.0\n",
      "15       Kina    Hazelton  Female  Great Britain  31.0  16/08/2016  3259.0\n",
      "16   Shavonne         Pia  Female         France  24.0  21/05/2015  1546.0\n",
      "17     Loreta         NaN  Female         France  26.0  21/05/2015  9654.0\n",
      "18     Teresa      Strawn  Female         France   NaN  21/05/2015  3569.0\n",
      "19    Belinda     Partain  Female  United States  37.0  15/10/2017  2564.0\n",
      "20      Holly        Eudy  Female  United States  52.0  16/08/2016  8561.0\n",
      "21       Many      Cuccia  Female  Great Britain  46.0  21/05/2015  5489.0\n",
      "22     Libbie       Dalby  Female            NaN  42.0  21/05/2015  5489.0\n",
      "23     Lester     Prothro    Male         France  21.0  15/10/2017  6574.0\n",
      "24     Marvel        Hail  Female  Great Britain  28.0  15/10/2017  5555.0\n",
      "25    Angelyn        Vong  Female  United States  29.0  21/05/2015  6125.0\n",
      "26  Francesca   Beaudreau  Female         France  23.0  15/10/2017  5412.0\n",
      "27      Garth       Gangi    Male  United States  41.0  16/08/2016  3256.0\n",
      "28      Carla    Trumbull  Female  Great Britain  28.0  21/05/2015  3264.0\n",
      "29       Veta       Muntz  Female  Great Britain  37.0  15/10/2017  4569.0\n",
      "30     Stasia      Becker  Female  Great Britain  34.0  16/08/2016  7521.0\n",
      "31       Jona      Becker  Female  Great Britain  26.0  21/05/2015  6458.0\n",
      "32      Judie    Claywell  Female         France  35.0  16/08/2016  7569.0\n",
      "33     Dewitt      Borger    Male  United States  36.0  21/05/2015  8514.0\n",
      "34       Nena      Hacker  Female  United States  29.0  15/10/2017  8563.0\n",
      "35     Kelsie     Wachtel  Female         France  27.0  16/08/2016  8642.0\n",
      "36        Sau        Pfau  Female  United States  25.0  21/05/2015  9536.0\n",
      "37    Shanice   Mccrystal  Female  United States  36.0  21/05/2015  2567.0\n",
      "38      Chase      Karner    Male  United States  37.0  15/10/2017  2154.0\n",
      "39     Tommie   Underdahl    Male  United States  26.0  16/08/2016  3265.0\n",
      "40     Dorcas      Darity  Female  United States  37.0  21/05/2015  8765.0\n",
      "41      Angel       Sanor    Male         France  24.0  15/10/2017  3259.0\n",
      "42  Willodean        Harn  Female  United States  39.0  16/08/2016  3567.0\n",
      "43     Weston     Martina    Male  United States  26.0  21/05/2015  6540.0\n",
      "44       Roma  Lafollette  Female  United States  34.0  15/10/2017  2654.0\n",
      "45     Felisa        Cail  Female  United States  28.0  16/08/2016  6525.0\n",
      "46   Demetria       Abbey  Female  United States  32.0  21/05/2015  3265.0\n",
      "47     Jeromy        Danz    Male  United States  39.0  15/10/2017  3265.0\n",
      "48   Rasheeda      Alkire  Female  United States  29.0  16/08/2016  6125.0\n",
      "49      Dulce       Abril  Female  United States  32.0  15/10/2017  1562.0\n",
      "50       Mara   Hashimoto  Female  Great Britain  25.0  16/08/2016  1582.0\n",
      "51     Philip        Gent    Male         France  36.0  21/05/2015  2587.0\n",
      "52   Kathleen      Hanner  Female  United States  25.0  15/10/2017  3549.0\n",
      "53    Nereida     Magwood  Female  United States  58.0  16/08/2016  2468.0\n",
      "54     Gaston       Brumm    Male  United States  24.0  21/05/2015  2554.0\n",
      "55       Etta        Hurn  Female  Great Britain  56.0  15/10/2017  3598.0\n",
      "56    Earlean      Melgar  Female  United States  27.0  16/08/2016  2456.0\n",
      "57   Vincenza     Weiland  Female  United States  40.0  21/05/2015  6548.0\n",
      "58     Fallon     Winward  Female  Great Britain  28.0  16/08/2016  5486.0\n",
      "59    Arcelia      Bouska  Female  Great Britain  39.0  21/05/2015  1258.0\n"
     ]
    }
   ],
   "source": [
    "df = pd.read_excel('D:/01 Mahesh Data/Data/Pandas/data.xlsx')\n",
    "print(df)"
   ]
  },
  {
   "cell_type": "markdown",
   "id": "d3469496-5e40-49b6-8d33-0897c23b8eeb",
   "metadata": {
    "jp-MarkdownHeadingCollapsed": true
   },
   "source": [
    "#### Data Exploration"
   ]
  },
  {
   "cell_type": "code",
   "execution_count": 91,
   "id": "f96b2648-1783-4374-8e7f-d41b22d68ae8",
   "metadata": {},
   "outputs": [
    {
     "name": "stdout",
     "output_type": "stream",
     "text": [
      "  First Name  Last Name  Gender        Country   Age        Date      Id\n",
      "0      Dulce      Abril  Female  United States  32.0  15/10/2017  1562.0\n",
      "1       Avon      Abril  Female          India  28.0  15/10/2017  1562.0\n",
      "2       Mara  Hashimoto  Female  Great Britain  25.0  16/08/2016  1582.0\n",
      "3     Philip       Gent    Male         France  36.0  21/05/2015  2587.0\n",
      "4   Kathleen     Hanner  Female  United States  25.0  15/10/2017  3549.0\n"
     ]
    }
   ],
   "source": [
    "# Data Exploration: Check the first few rows to understand the data structure.\n",
    "\n",
    "data_head = df.head()\n",
    "print(data_head)"
   ]
  },
  {
   "cell_type": "markdown",
   "id": "680e711b-12eb-4b1f-9504-4cc5252aee96",
   "metadata": {
    "jp-MarkdownHeadingCollapsed": true
   },
   "source": [
    "#### Data Filtering"
   ]
  },
  {
   "cell_type": "code",
   "execution_count": 92,
   "id": "e0b8047b-4d5a-4559-b158-066b132c0cb5",
   "metadata": {},
   "outputs": [
    {
     "name": "stdout",
     "output_type": "stream",
     "text": [
      "   First Name Last Name  Gender        Country   Age        Date      Id\n",
      "0       Dulce     Abril  Female  United States  32.0  15/10/2017  1562.0\n",
      "1        Avon     Abril  Female          India  28.0  15/10/2017  1562.0\n",
      "49      Dulce     Abril  Female  United States  32.0  15/10/2017  1562.0\n"
     ]
    }
   ],
   "source": [
    "# Data Filtering: Extract transactions for a specific account or period.\n",
    "\n",
    "account_trans = df[df['Id'] == 1562]\n",
    "print(account_trans)"
   ]
  },
  {
   "cell_type": "markdown",
   "id": "008e9eb3-75b5-4284-8350-14bf23ad1bd4",
   "metadata": {
    "jp-MarkdownHeadingCollapsed": true
   },
   "source": [
    "#### Grouping and Data Aggregation"
   ]
  },
  {
   "cell_type": "code",
   "execution_count": 93,
   "id": "a1901c04-d885-4f68-869e-f27def97b3d8",
   "metadata": {},
   "outputs": [
    {
     "name": "stdout",
     "output_type": "stream",
     "text": [
      "Country\n",
      "France            51399.0\n",
      "Great Britain     65806.0\n",
      "India              1562.0\n",
      "United States    134085.0\n",
      "Name: Id, dtype: float64\n"
     ]
    }
   ],
   "source": [
    "# Data Aggregation: Summarize total transaction amounts per customer for reporting purposes.\n",
    "\n",
    "trans_sum = df.groupby('Country')['Id'].sum()\n",
    "print(trans_sum)"
   ]
  },
  {
   "cell_type": "markdown",
   "id": "67d68b47-0262-4585-8bcf-27176c0cca58",
   "metadata": {
    "jp-MarkdownHeadingCollapsed": true
   },
   "source": [
    "#### Cleaning Data"
   ]
  },
  {
   "cell_type": "code",
   "execution_count": 94,
   "id": "cc4b57db-17a9-420e-93ff-f4e064fef9fd",
   "metadata": {},
   "outputs": [],
   "source": [
    "# Data Visualization: Plot transaction trends over time to identify peak periods or unusual patterns.\n",
    "\n",
    "cleaned_data = df.dropna()"
   ]
  },
  {
   "cell_type": "markdown",
   "id": "73b43587-22c2-4865-bc0b-21a50c351798",
   "metadata": {
    "jp-MarkdownHeadingCollapsed": true
   },
   "source": [
    "#### Data Transformation"
   ]
  },
  {
   "cell_type": "code",
   "execution_count": 61,
   "id": "54acf32c-3307-4fc6-817d-d66ff705a475",
   "metadata": {},
   "outputs": [],
   "source": [
    "df['Date'] = pd.to_datetime(df['Date'])"
   ]
  },
  {
   "cell_type": "markdown",
   "id": "40771f82-8252-4f26-9d32-6083c190e428",
   "metadata": {
    "jp-MarkdownHeadingCollapsed": true
   },
   "source": [
    "#### Merging data"
   ]
  },
  {
   "cell_type": "code",
   "execution_count": 108,
   "id": "a913d0cf-a41f-43de-8a81-bd90cbfa2ec5",
   "metadata": {},
   "outputs": [],
   "source": [
    "merged_name = pd.merge(df['First Name'], df['Last Name'], on=df['Id'])"
   ]
  },
  {
   "cell_type": "code",
   "execution_count": null,
   "id": "6f9ee3e0-5473-4dca-ad47-9c47dbe4bf11",
   "metadata": {},
   "outputs": [],
   "source": [
    "merged_name.to_excel('D:/01 Mahesh Data/Data/Pandas/data2.xlsx')"
   ]
  },
  {
   "cell_type": "markdown",
   "id": "7189f90a-6c91-4ef3-b89a-50c0ce113be7",
   "metadata": {
    "jp-MarkdownHeadingCollapsed": true
   },
   "source": [
    "#### Writing to Excel"
   ]
  },
  {
   "cell_type": "code",
   "execution_count": 96,
   "id": "fc17434b-306b-46bb-a6f3-c2d389786e60",
   "metadata": {},
   "outputs": [],
   "source": [
    "cleaned_data.to_excel('D:/01 Mahesh Data/Data/Pandas/data1.xlsx')"
   ]
  },
  {
   "cell_type": "markdown",
   "id": "6ea8549a-95a0-43c1-9915-0463be764da7",
   "metadata": {},
   "source": [
    "#### Data Visualization"
   ]
  },
  {
   "cell_type": "code",
   "execution_count": 110,
   "id": "6c9da933-f9d3-4bd7-ae0a-cd22adf435ce",
   "metadata": {},
   "outputs": [],
   "source": [
    "data1 = pd.read_excel('D:/01 Mahesh Data/Data/Pandas/data1.xlsx')"
   ]
  },
  {
   "cell_type": "code",
   "execution_count": 111,
   "id": "c020e9c2-c473-439f-bed0-97786c40ed69",
   "metadata": {},
   "outputs": [],
   "source": [
    "df1 = pd.DataFrame(data1)"
   ]
  },
  {
   "cell_type": "code",
   "execution_count": null,
   "id": "6cecd9c1-0ea5-48a1-a793-4adda43c0ce7",
   "metadata": {},
   "outputs": [],
   "source": [
    "print(df1)"
   ]
  },
  {
   "cell_type": "code",
   "execution_count": null,
   "id": "376ed633-755b-462c-8946-eb776e1fba66",
   "metadata": {},
   "outputs": [],
   "source": [
    "print(df1.info())"
   ]
  },
  {
   "cell_type": "code",
   "execution_count": null,
   "id": "ba1cec7d-c69c-4f4a-af0a-82837f0151ab",
   "metadata": {},
   "outputs": [],
   "source": []
  }
 ],
 "metadata": {
  "kernelspec": {
   "display_name": "Python 3 (ipykernel)",
   "language": "python",
   "name": "python3"
  },
  "language_info": {
   "codemirror_mode": {
    "name": "ipython",
    "version": 3
   },
   "file_extension": ".py",
   "mimetype": "text/x-python",
   "name": "python",
   "nbconvert_exporter": "python",
   "pygments_lexer": "ipython3",
   "version": "3.12.4"
  }
 },
 "nbformat": 4,
 "nbformat_minor": 5
}
